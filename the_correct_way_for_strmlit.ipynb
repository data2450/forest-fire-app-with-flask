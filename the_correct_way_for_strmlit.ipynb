{
  "nbformat": 4,
  "nbformat_minor": 0,
  "metadata": {
    "colab": {
      "name": "the correct way for strmlit.ipynb",
      "provenance": []
    },
    "kernelspec": {
      "name": "python3",
      "display_name": "Python 3"
    }
  },
  "cells": [
    {
      "cell_type": "code",
      "metadata": {
        "colab": {
          "base_uri": "https://localhost:8080/"
        },
        "id": "Kl_dooPtdj34",
        "outputId": "9db29f17-cf97-497e-d664-f65e130ce0f9"
      },
      "source": [
        "!pip -q install streamlit\n",
        "!pip -q install pyngrok"
      ],
      "execution_count": null,
      "outputs": [
        {
          "output_type": "stream",
          "text": [
            "\u001b[K     |████████████████████████████████| 7.4MB 3.8MB/s \n",
            "\u001b[K     |████████████████████████████████| 6.9MB 43.3MB/s \n",
            "\u001b[K     |████████████████████████████████| 4.5MB 39.1MB/s \n",
            "\u001b[K     |████████████████████████████████| 102kB 11.4MB/s \n",
            "\u001b[K     |████████████████████████████████| 163kB 43.8MB/s \n",
            "\u001b[K     |████████████████████████████████| 112kB 47.3MB/s \n",
            "\u001b[K     |████████████████████████████████| 133kB 49.9MB/s \n",
            "\u001b[K     |████████████████████████████████| 143kB 52.3MB/s \n",
            "\u001b[K     |████████████████████████████████| 122kB 50.9MB/s \n",
            "\u001b[K     |████████████████████████████████| 71kB 8.5MB/s \n",
            "\u001b[K     |████████████████████████████████| 71kB 8.3MB/s \n",
            "\u001b[?25h  Building wheel for watchdog (setup.py) ... \u001b[?25l\u001b[?25hdone\n",
            "  Building wheel for blinker (setup.py) ... \u001b[?25l\u001b[?25hdone\n",
            "  Building wheel for pathtools (setup.py) ... \u001b[?25l\u001b[?25hdone\n",
            "\u001b[31mERROR: requests 2.23.0 has requirement urllib3!=1.25.0,!=1.25.1,<1.26,>=1.21.1, but you'll have urllib3 1.26.2 which is incompatible.\u001b[0m\n",
            "\u001b[31mERROR: google-colab 1.0.0 has requirement ipykernel~=4.10, but you'll have ipykernel 5.3.4 which is incompatible.\u001b[0m\n",
            "\u001b[31mERROR: datascience 0.10.6 has requirement folium==0.2.1, but you'll have folium 0.8.3 which is incompatible.\u001b[0m\n",
            "  Building wheel for pyngrok (setup.py) ... \u001b[?25l\u001b[?25hdone\n"
          ],
          "name": "stdout"
        }
      ]
    },
    {
      "cell_type": "code",
      "metadata": {
        "colab": {
          "base_uri": "https://localhost:8080/"
        },
        "id": "L1r6WAe2dk-q",
        "outputId": "21c271c7-91df-43ec-c4fc-3ff63c43923a"
      },
      "source": [
        "%%writefile app.py\n",
        "import streamlit as st\n",
        "st.title('hi world my dear allways hard work wins')"
      ],
      "execution_count": null,
      "outputs": [
        {
          "output_type": "stream",
          "text": [
            "Overwriting app.py\n"
          ],
          "name": "stdout"
        }
      ]
    },
    {
      "cell_type": "code",
      "metadata": {
        "id": "U8c7TVz3fiwf"
      },
      "source": [
        ""
      ],
      "execution_count": null,
      "outputs": []
    },
    {
      "cell_type": "code",
      "metadata": {
        "colab": {
          "base_uri": "https://localhost:8080/"
        },
        "id": "-hjIhebydm-3",
        "outputId": "9741fb41-08ae-485b-a4da-909ad037526d"
      },
      "source": [
        "from pyngrok import ngrok\n",
        "public_url=ngrok.connect(port=80)\n",
        "print(public_url)\n",
        "!streamlit run --server.port 80 app.py >/dev/null"
      ],
      "execution_count": null,
      "outputs": [
        {
          "output_type": "stream",
          "text": [
            "NgrokTunnel: \"http://8e84adb46973.ngrok.io\" -> \"http://localhost:80\"\n",
            "/usr/local/lib/python3.6/dist-packages/requests/__init__.py:91: RequestsDependencyWarning: urllib3 (1.26.2) or chardet (3.0.4) doesn't match a supported version!\n",
            "  RequestsDependencyWarning)\n"
          ],
          "name": "stdout"
        }
      ]
    }
  ]
}